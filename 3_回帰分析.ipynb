{
 "cells": [
  {
   "cell_type": "code",
   "execution_count": 9,
   "metadata": {},
   "outputs": [
    {
     "name": "stdout",
     "output_type": "stream",
     "text": [
      "傾き= 0.6428571428571429\n",
      "切片= 0.8571428571428568\n"
     ]
    }
   ],
   "source": [
    "#最小二乗法で回帰式の傾きと切片を求める\n",
    "import csv\n",
    "import math\n",
    "\n",
    "def regression(file):\n",
    "    '''\n",
    "        最小二乗法で回帰係数と切片を求める\n",
    "        \n",
    "        パラメーター\n",
    "        ----------------\n",
    "        file : str(読み込みを行うcsvファイル名)\n",
    "    '''\n",
    "    i=0\n",
    "    a=0.0\n",
    "    b=0.0\n",
    "    \n",
    "    sum_x=0.0\n",
    "    sum_y=0.0\n",
    "    sum_xy=0.0\n",
    "    sum_x2=0.0\n",
    "    \n",
    "    with open(file,'r') as f:\n",
    "        reader=csv.reader(f)\n",
    "        next(reader)\n",
    "        \n",
    "        for row in reader:\n",
    "            x=float(row[0])\n",
    "            y=float(row[1])\n",
    "            sum_x+=x\n",
    "            sum_y+=y\n",
    "            sum_xy+=x*y\n",
    "            sum_x2+=math.pow(x,2)\n",
    "            i+=1\n",
    "        \n",
    "        a=(i*sum_xy-sum_x*sum_y)/(i*sum_x2-math.pow(sum_x,2))\n",
    "        b=sum_y/i-sum_x/i*a\n",
    "        \n",
    "        print('傾き=',a)\n",
    "        print('切片=',b)\n",
    "        \n",
    "if __name__=='__main__':\n",
    "    regression('data.csv')\n",
    "    "
   ]
  },
  {
   "cell_type": "code",
   "execution_count": null,
   "metadata": {},
   "outputs": [],
   "source": []
  }
 ],
 "metadata": {
  "kernelspec": {
   "display_name": "Python 3",
   "language": "python",
   "name": "python3"
  },
  "language_info": {
   "codemirror_mode": {
    "name": "ipython",
    "version": 3
   },
   "file_extension": ".py",
   "mimetype": "text/x-python",
   "name": "python",
   "nbconvert_exporter": "python",
   "pygments_lexer": "ipython3",
   "version": "3.7.7"
  }
 },
 "nbformat": 4,
 "nbformat_minor": 4
}
